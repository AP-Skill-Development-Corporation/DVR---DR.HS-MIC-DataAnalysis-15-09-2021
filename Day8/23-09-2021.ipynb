{
 "cells": [
  {
   "cell_type": "markdown",
   "metadata": {},
   "source": [
    "## Day Objective\n",
    "- Preprocessing "
   ]
  },
  {
   "cell_type": "code",
   "execution_count": 2,
   "metadata": {
    "collapsed": true
   },
   "outputs": [
    {
     "data": {
      "text/plain": [
       "<matplotlib.collections.PathCollection at 0x20ee09f2eb8>"
      ]
     },
     "execution_count": 2,
     "metadata": {},
     "output_type": "execute_result"
    },
    {
     "data": {
      "image/png": "[encoded data removed]",
      "text/plain": [
       "<Figure size 432x288 with 1 Axes>"
      ]
     },
     "metadata": {
      "needs_background": "light"
     },
     "output_type": "display_data"
    }
   ],
   "source": [
    "import matplotlib.pyplot as plt\n",
    "\n",
    "x = [2,3,5,1,3,4.5,3.2,2.2,24,26]\n",
    "y = [5,1,2,3,1,1.5,1.2,5.6,23,25]\n",
    "plt.scatter(x,y)"
   ]
  },
  {
   "cell_type": "markdown",
   "metadata": {},
   "source": [
    "#### Outliers\n",
    "- Outliers are different from other data points in dataset which effects training process and resulting loss of accuracy in machine learning.\n",
    "\n",
    "- For handling outliers, apply scaling techniques\n",
    "\n",
    "#### Scaling Techniques\n",
    "- Scaling is used to compress the values between a fixed range(0 to 1, mean to std, -ve to +ve)\n",
    "    - Standard Scaler\n",
    "    - Min Max Scaler\n",
    "    - Robust Scaler\n",
    "    - Normalizer\n",
    "    - etc,.."
   ]
  },
  {
   "cell_type": "markdown",
   "metadata": {},
   "source": [
    "### Standard scaler\n",
    "- By applying standard scaler, the dataset will be normally distributed.\n",
    "- It scales the data points between mean to unit variance\n",
    "- Formula:\n",
    "    - Z = (Xi - mean(X)) / std(X)"
   ]
  },
  {
   "cell_type": "code",
   "execution_count": 3,
   "metadata": {},
   "outputs": [],
   "source": [
    "import pandas as pd"
   ]
  },
  {
   "cell_type": "code",
   "execution_count": 4,
   "metadata": {
    "collapsed": true
   },
   "outputs": [
    {
     "data": {
      "text/html": [
       "<div>\n",
       "<style scoped>\n",
       "    .dataframe tbody tr th:only-of-type {\n",
       "        vertical-align: middle;\n",
       "    }\n",
       "\n",
       "    .dataframe tbody tr th {\n",
       "        vertical-align: top;\n",
       "    }\n",
       "\n",
       "    .dataframe thead th {\n",
       "        text-align: right;\n",
       "    }\n",
       "</style>\n",
       "<table border=\"1\" class=\"dataframe\">\n",
       "  <thead>\n",
       "    <tr style=\"text-align: right;\">\n",
       "      <th></th>\n",
       "      <th>Unnamed: 0</th>\n",
       "      <th>TV</th>\n",
       "      <th>radio</th>\n",
       "      <th>newspaper</th>\n",
       "      <th>sales</th>\n",
       "    </tr>\n",
       "  </thead>\n",
       "  <tbody>\n",
       "    <tr>\n",
       "      <th>0</th>\n",
       "      <td>1</td>\n",
       "      <td>230.1</td>\n",
       "      <td>37.8</td>\n",
       "      <td>69.2</td>\n",
       "      <td>22.1</td>\n",
       "    </tr>\n",
       "    <tr>\n",
       "      <th>1</th>\n",
       "      <td>2</td>\n",
       "      <td>44.5</td>\n",
       "      <td>39.3</td>\n",
       "      <td>45.1</td>\n",
       "      <td>10.4</td>\n",
       "    </tr>\n",
       "    <tr>\n",
       "      <th>2</th>\n",
       "      <td>3</td>\n",
       "      <td>17.2</td>\n",
       "      <td>45.9</td>\n",
       "      <td>69.3</td>\n",
       "      <td>9.3</td>\n",
       "    </tr>\n",
       "    <tr>\n",
       "      <th>3</th>\n",
       "      <td>4</td>\n",
       "      <td>151.5</td>\n",
       "      <td>41.3</td>\n",
       "      <td>58.5</td>\n",
       "      <td>18.5</td>\n",
       "    </tr>\n",
       "    <tr>\n",
       "      <th>4</th>\n",
       "      <td>5</td>\n",
       "      <td>180.8</td>\n",
       "      <td>10.8</td>\n",
       "      <td>58.4</td>\n",
       "      <td>12.9</td>\n",
       "    </tr>\n",
       "  </tbody>\n",
       "</table>\n",
       "</div>"
      ],
      "text/plain": [
       "   Unnamed: 0     TV  radio  newspaper  sales\n",
       "0           1  230.1   37.8       69.2   22.1\n",
       "1           2   44.5   39.3       45.1   10.4\n",
       "2           3   17.2   45.9       69.3    9.3\n",
       "3           4  151.5   41.3       58.5   18.5\n",
       "4           5  180.8   10.8       58.4   12.9"
      ]
     },
     "execution_count": 4,
     "metadata": {},
     "output_type": "execute_result"
    }
   ],
   "source": [
    "df = pd.read_csv('https://raw.githubusercontent.com/nagamounika5/Datasets/master/Advertisement.csv')\n",
    "df.head()"
   ]
  },
  {
   "cell_type": "code",
   "execution_count": 5,
   "metadata": {},
   "outputs": [
    {
     "data": {
      "text/plain": [
       "(200, 5)"
      ]
     },
     "execution_count": 5,
     "metadata": {},
     "output_type": "execute_result"
    }
   ],
   "source": [
    "df.shape"
   ]
  },
  {
   "cell_type": "code",
   "execution_count": 7,
   "metadata": {},
   "outputs": [
    {
     "data": {
      "text/plain": [
       "0"
      ]
     },
     "execution_count": 7,
     "metadata": {},
     "output_type": "execute_result"
    }
   ],
   "source": [
    "df.isnull().sum().sum()"
   ]
  },
  {
   "cell_type": "code",
   "execution_count": 8,
   "metadata": {},
   "outputs": [],
   "source": [
    "df.drop(['Unnamed: 0'], axis = 1, inplace = True)"
   ]
  },
  {
   "cell_type": "code",
   "execution_count": 9,
   "metadata": {},
   "outputs": [
    {
     "data": {
      "text/html": [
       "<div>\n",
       "<style scoped>\n",
       "    .dataframe tbody tr th:only-of-type {\n",
       "        vertical-align: middle;\n",
       "    }\n",
       "\n",
       "    .dataframe tbody tr th {\n",
       "        vertical-align: top;\n",
       "    }\n",
       "\n",
       "    .dataframe thead th {\n",
       "        text-align: right;\n",
       "    }\n",
       "</style>\n",
       "<table border=\"1\" class=\"dataframe\">\n",
       "  <thead>\n",
       "    <tr style=\"text-align: right;\">\n",
       "      <th></th>\n",
       "      <th>TV</th>\n",
       "      <th>radio</th>\n",
       "      <th>newspaper</th>\n",
       "      <th>sales</th>\n",
       "    </tr>\n",
       "  </thead>\n",
       "  <tbody>\n",
       "    <tr>\n",
       "      <th>0</th>\n",
       "      <td>230.1</td>\n",
       "      <td>37.8</td>\n",
       "      <td>69.2</td>\n",
       "      <td>22.1</td>\n",
       "    </tr>\n",
       "    <tr>\n",
       "      <th>1</th>\n",
       "      <td>44.5</td>\n",
       "      <td>39.3</td>\n",
       "      <td>45.1</td>\n",
       "      <td>10.4</td>\n",
       "    </tr>\n",
       "    <tr>\n",
       "      <th>2</th>\n",
       "      <td>17.2</td>\n",
       "      <td>45.9</td>\n",
       "      <td>69.3</td>\n",
       "      <td>9.3</td>\n",
       "    </tr>\n",
       "    <tr>\n",
       "      <th>3</th>\n",
       "      <td>151.5</td>\n",
       "      <td>41.3</td>\n",
       "      <td>58.5</td>\n",
       "      <td>18.5</td>\n",
       "    </tr>\n",
       "    <tr>\n",
       "      <th>4</th>\n",
       "      <td>180.8</td>\n",
       "      <td>10.8</td>\n",
       "      <td>58.4</td>\n",
       "      <td>12.9</td>\n",
       "    </tr>\n",
       "  </tbody>\n",
       "</table>\n",
       "</div>"
      ],
      "text/plain": [
       "      TV  radio  newspaper  sales\n",
       "0  230.1   37.8       69.2   22.1\n",
       "1   44.5   39.3       45.1   10.4\n",
       "2   17.2   45.9       69.3    9.3\n",
       "3  151.5   41.3       58.5   18.5\n",
       "4  180.8   10.8       58.4   12.9"
      ]
     },
     "execution_count": 9,
     "metadata": {},
     "output_type": "execute_result"
    }
   ],
   "source": [
    "df.head()"
   ]
  },
  {
   "cell_type": "code",
   "execution_count": 10,
   "metadata": {
    "collapsed": true
   },
   "outputs": [
    {
     "data": {
      "image/png": "[encoded data removed]",
      "text/plain": [
       "<Figure size 432x288 with 1 Axes>"
      ]
     },
     "metadata": {
      "needs_background": "light"
     },
     "output_type": "display_data"
    }
   ],
   "source": [
    "plt.hist(df)\n",
    "plt.show()"
   ]
  },
  {
   "cell_type": "code",
   "execution_count": 12,
   "metadata": {},
   "outputs": [
    {
     "data": {
      "text/plain": [
       "85.8542363149081"
      ]
     },
     "execution_count": 12,
     "metadata": {},
     "output_type": "execute_result"
    }
   ],
   "source": [
    "df['TV'].mean()\n",
    "df['TV'].std()"
   ]
  },
  {
   "cell_type": "code",
   "execution_count": 13,
   "metadata": {},
   "outputs": [
    {
     "data": {
      "text/plain": [
       "0.9674245974316092"
      ]
     },
     "execution_count": 13,
     "metadata": {},
     "output_type": "execute_result"
    }
   ],
   "source": [
    "#  (Xi - mean(X)) / std(X)\n",
    "\n",
    "(230.1 - 147.0425) / 85.85423631"
   ]
  },
  {
   "cell_type": "markdown",
   "metadata": {},
   "source": [
    "#### Apply standard scaler model\n",
    "- Step1: Import the model\n",
    "- Step2: Intialize the model in an object\n",
    "- Step3: fit the model\n",
    "- Step4: Convert array of values into dataframe"
   ]
  },
  {
   "cell_type": "code",
   "execution_count": 15,
   "metadata": {},
   "outputs": [],
   "source": [
    "from sklearn.preprocessing import StandardScaler"
   ]
  },
  {
   "cell_type": "code",
   "execution_count": 16,
   "metadata": {
    "collapsed": true
   },
   "outputs": [
    {
     "data": {
      "text/plain": [
       "StandardScaler(copy=True, with_mean=True, with_std=True)"
      ]
     },
     "execution_count": 16,
     "metadata": {},
     "output_type": "execute_result"
    }
   ],
   "source": [
    "st1 = StandardScaler()\n",
    "st1"
   ]
  },
  {
   "cell_type": "code",
   "execution_count": 17,
   "metadata": {
    "collapsed": true
   },
   "outputs": [
    {
     "data": {
      "text/plain": [
       "array([[ 9.69852266e-01,  9.81522472e-01,  1.77894547e+00,\n",
       "         1.55205313e+00],\n",
       "       [-1.19737623e+00,  1.08280781e+00,  6.69578760e-01,\n",
       "        -6.96046111e-01],\n",
       "       [-1.51615499e+00,  1.52846331e+00,  1.78354865e+00,\n",
       "        -9.07405869e-01],\n",
       "       [ 5.20496822e-02,  1.21785493e+00,  1.28640506e+00,\n",
       "         8.60330287e-01],\n",
       "       [ 3.94182198e-01, -8.41613655e-01,  1.28180188e+00,\n",
       "        -2.15683025e-01],\n",
       "       [-1.61540845e+00,  1.73103399e+00,  2.04592999e+00,\n",
       "        -1.31091086e+00],\n",
       "       [-1.04557682e+00,  6.43904671e-01, -3.24708413e-01,\n",
       "        -4.27042783e-01],\n",
       "       [-3.13436589e-01, -2.47406325e-01, -8.72486994e-01,\n",
       "        -1.58039455e-01],\n",
       "       [-1.61657614e+00, -1.42906863e+00, -1.36042422e+00,\n",
       "        -1.77205942e+00],\n",
       "       [ 6.16042873e-01, -1.39530685e+00, -4.30581584e-01,\n",
       "        -6.57617064e-01],\n",
       "       [-9.45155670e-01, -1.17923146e+00, -2.92486143e-01,\n",
       "        -1.04190753e+00],\n",
       "       [ 7.90028350e-01,  4.96973404e-02, -1.22232878e+00,\n",
       "         6.48970529e-01],\n",
       "       [-1.43908760e+00,  7.99208859e-01,  1.62704048e+00,\n",
       "        -9.26620392e-01],\n",
       "       [-5.78501712e-01, -1.05768905e+00, -1.07502697e+00,\n",
       "        -8.30547775e-01],\n",
       "       [ 6.66253447e-01,  6.50657027e-01,  7.11007392e-01,\n",
       "         9.56402904e-01],\n",
       "       [ 5.64664612e-01,  1.65000572e+00,  1.02862691e+00,\n",
       "         1.60969670e+00],\n",
       "       [-9.25304978e-01,  9.00494200e-01,  3.84117072e+00,\n",
       "        -2.92541119e-01],\n",
       "       [ 1.56887609e+00,  1.10306488e+00,  1.16211917e+00,\n",
       "         1.99398717e+00],\n",
       "       [-9.08957349e-01, -1.86635121e-01, -5.64073843e-01,\n",
       "        -5.23115400e-01],\n",
       "       [ 3.00679600e-03,  4.29449843e-02, -5.27248393e-01,\n",
       "         1.10963873e-01],\n",
       "       [ 8.33232798e-01,  2.99534513e-01,  1.05164281e+00,\n",
       "         7.64257669e-01],\n",
       "       [ 1.05509347e+00, -1.22649795e+00, -3.24708413e-01,\n",
       "        -2.92541119e-01],\n",
       "       [-1.56286250e+00, -4.97243498e-01,  8.76721921e-01,\n",
       "        -1.61834324e+00],\n",
       "       [ 9.48833887e-01, -4.29719938e-01, -2.00422516e-01,\n",
       "         2.83894584e-01],\n",
       "       [-9.89527805e-01, -7.20071247e-01, -5.64073843e-01,\n",
       "        -8.30547775e-01],\n",
       "       [ 1.35285385e+00, -1.33453565e+00, -5.08835667e-01,\n",
       "        -3.88613736e-01],\n",
       "       [-4.83714657e-02,  4.07572210e-01, -8.26455181e-01,\n",
       "         1.87821967e-01],\n",
       "       [ 1.08662104e+00, -4.43224650e-01, -3.52327501e-01,\n",
       "         3.60752677e-01],\n",
       "       [ 1.18820988e+00,  2.59020377e-01, -3.52327501e-01,\n",
       "         9.37188380e-01],\n",
       "       [-8.92609721e-01, -4.90491142e-01,  4.71641962e-01,\n",
       "        -6.76831588e-01],\n",
       "       [ 1.70316018e+00,  3.40048650e-01,  5.82118314e-01,\n",
       "         1.41755147e+00],\n",
       "       [-3.98677796e-01, -3.95958157e-01,  3.70371972e-01,\n",
       "        -4.07828260e-01],\n",
       "       [-5.82004775e-01, -1.46958277e+00, -2.55016247e-02,\n",
       "        -8.49762299e-01],\n",
       "       [ 1.38438142e+00, -2.20396901e-01, -1.39264649e+00,\n",
       "         6.48970529e-01],\n",
       "       [-5.99520091e-01, -1.47633512e+00, -1.06582061e+00,\n",
       "        -8.68976822e-01],\n",
       "       [ 1.67747105e+00, -1.29402151e+00, -1.01518562e+00,\n",
       "        -2.34897549e-01],\n",
       "       [ 1.39956136e+00,  1.38666383e+00, -1.17629696e+00,\n",
       "         2.18613240e+00],\n",
       "       [-8.44734522e-01,  1.76479577e+00,  6.97197848e-01,\n",
       "         1.30178396e-01],\n",
       "       [-1.21372386e+00,  2.32010953e-01,  2.09260624e-01,\n",
       "        -7.53689682e-01],\n",
       "       [ 9.45330823e-01,  9.74770116e-01,  6.65620024e-02,\n",
       "         1.43676599e+00],\n",
       "       [ 6.47570443e-01, -6.50927121e-02,  4.81492770e-02,\n",
       "         4.95254341e-01],\n",
       "       [ 3.49810063e-01,  6.84418807e-01,  3.74975153e-01,\n",
       "         5.91326959e-01],\n",
       "       [ 1.71133400e+00,  2.99534513e-01, -1.32359877e+00,\n",
       "         1.28304980e+00],\n",
       "       [ 6.98948705e-01, -1.00367020e+00, -1.91216154e-01,\n",
       "        -2.15683025e-01],\n",
       "       [-1.42390765e+00,  1.64487393e-01,  5.86721496e-01,\n",
       "        -1.06112206e+00],\n",
       "       [ 3.27623995e-01, -5.15880000e-02,  4.35460956e-02,\n",
       "         1.68607443e-01],\n",
       "       [-6.69581357e-01, -9.02384859e-01,  2.36879713e-01,\n",
       "        -6.57617064e-01],\n",
       "       [ 1.08428567e+00,  1.23135965e+00, -5.54867481e-01,\n",
       "         1.76341289e+00],\n",
       "       [ 9.35989321e-01, -5.03995854e-01,  8.90531465e-01,\n",
       "         1.49392920e-01],\n",
       "       [-9.35814168e-01, -7.80842451e-01,  2.87514708e-01,\n",
       "        -8.30547775e-01],\n",
       "       [ 6.16042873e-01, -1.36154507e+00,  1.86244718e-01,\n",
       "        -5.03900877e-01],\n",
       "       [-5.44638766e-01, -9.22641928e-01, -1.24074150e+00,\n",
       "        -6.38402541e-01],\n",
       "       [ 8.09879042e-01,  1.24486436e+00,  4.16403786e-01,\n",
       "         1.64812575e+00],\n",
       "       [ 4.15200577e-01,  1.54872038e+00,  1.29561142e+00,\n",
       "         1.37912242e+00],\n",
       "       [ 1.35051848e+00,  3.73810430e-01, -6.74550196e-01,\n",
       "         1.18697718e+00],\n",
       "       [ 6.05533683e-01,  1.76479577e+00,  1.35545278e+00,\n",
       "         1.85948550e+00],\n",
       "       [-1.63175608e+00,  3.26543937e-01,  4.99261050e-01,\n",
       "        -1.63755776e+00],\n",
       "       [-1.26606546e-01, -2.74415749e-01, -6.42327927e-01,\n",
       "        -1.58039455e-01],\n",
       "       [ 7.44488528e-01,  1.77830048e+00,  3.28943340e-01,\n",
       "         1.87870003e+00],\n",
       "       [ 7.43320840e-01,  4.21076922e-01, -9.78360166e-01,\n",
       "         8.41115763e-01],\n",
       "       [-1.09228433e+00, -1.43582099e+00, -4.21375221e-01,\n",
       "        -1.13798015e+00],\n",
       "       [ 1.33417085e+00,  1.31238792e+00,  1.11148417e+00,\n",
       "         1.95555812e+00],\n",
       "       [ 1.07727954e+00, -5.24252922e-01, -1.49787521e-01,\n",
       "         3.22323631e-01],\n",
       "       [-5.17781948e-01,  4.27829278e-01, -1.01978880e+00,\n",
       "        -4.32326777e-03],\n",
       "       [-1.86158622e-01,  1.31914027e+00, -7.61366196e-02,\n",
       "         7.64257669e-01],\n",
       "       [-9.11292725e-01, -9.42898996e-01, -1.36502740e+00,\n",
       "        -9.07405869e-01],\n",
       "       [-1.34917564e+00,  9.02114765e-02, -1.30518604e+00,\n",
       "        -8.68976822e-01],\n",
       "       [-9.04082253e-02, -5.91776482e-01, -9.36931533e-01,\n",
       "        -1.19610408e-01],\n",
       "       [ 1.05509347e+00,  2.86029801e-01, -9.00106083e-01,\n",
       "         9.37188380e-01],\n",
       "       [ 8.14549794e-01,  1.39341619e+00, -1.54390703e-01,\n",
       "         1.59048218e+00],\n",
       "       [ 6.07869059e-01,  4.95352838e-01,  3.74975153e-01,\n",
       "         8.21901240e-01],\n",
       "       [-4.34876116e-01, -6.05281194e-01,  5.27524584e-02,\n",
       "        -3.11755643e-01],\n",
       "       [-1.40405696e+00,  6.57409383e-01, -5.18042030e-01,\n",
       "        -1.00347849e+00],\n",
       "       [-2.06009314e-01, -1.18598381e+00,  3.43397329e-02,\n",
       "        -5.80758971e-01],\n",
       "       [ 7.74848409e-01,  9.02114765e-02, -8.03439274e-01,\n",
       "         5.72112435e-01],\n",
       "       [-1.51965805e+00,  1.37991148e+00,  2.70878810e+00,\n",
       "        -1.02269301e+00],\n",
       "       [-1.39588315e+00, -1.46283041e+00, -4.53597491e-01,\n",
       "        -1.36855443e+00],\n",
       "       [-3.09933525e-01,  3.53553362e-01, -7.52804279e-01,\n",
       "         3.41057791e-02],\n",
       "       [-1.65394214e+00,  4.48086346e-01, -9.73756984e-01,\n",
       "        -1.67598681e+00],\n",
       "       [-3.62479475e-01, -1.05093669e+00, -3.43121138e-01,\n",
       "        -5.80758971e-01],\n",
       "       [-8.24883830e-01,  2.32010953e-01, -3.79946589e-01,\n",
       "        -4.27042783e-01],\n",
       "       [ 1.08311798e+00, -1.29402151e+00,  2.92117889e-01,\n",
       "        -3.30970166e-01],\n",
       "       [-8.37728396e-01, -2.00139833e-01,  8.95779092e-02,\n",
       "        -5.23115400e-01],\n",
       "       [-9.18298852e-01,  1.43393033e+00,  2.32276531e-01,\n",
       "        -8.11813615e-02],\n",
       "       [ 7.76016097e-01,  1.33264499e+00,  1.49419267e-01,\n",
       "         1.47519504e+00],\n",
       "       [ 5.38975481e-01, -3.28434597e-01,  1.61783412e+00,\n",
       "         2.26251013e-01],\n",
       "       [-8.26051518e-01,  2.86029801e-01, -6.69947015e-01,\n",
       "        -3.88613736e-01],\n",
       "       [-4.24366926e-01,  1.17058844e+00,  1.50275459e+00,\n",
       "         3.79967201e-01],\n",
       "       [-6.85928986e-01,  1.50982681e-01,  1.97227908e+00,\n",
       "        -2.15683025e-01],\n",
       "       [-4.34876116e-01,  1.65675807e+00,  9.59579186e-01,\n",
       "         5.14468865e-01],\n",
       "       [-1.48792614e-01, -1.24000266e+00, -9.78360166e-01,\n",
       "        -5.42329924e-01],\n",
       "       [-1.38303858e+00, -1.46958277e+00,  1.12593816e-01,\n",
       "        -1.29169634e+00],\n",
       "       [ 8.25058983e-01,  6.91171163e-01,  1.30942097e+00,\n",
       "         1.03326100e+00],\n",
       "       [ 1.21273132e+00,  8.93741844e-01,  1.92164409e+00,\n",
       "         1.57126765e+00],\n",
       "       [-4.62900623e-01, -6.25538262e-01, -9.04709264e-01,\n",
       "        -4.84686354e-01],\n",
       "       [ 1.89836839e-01,  5.62876398e-01,  1.02862691e+00,\n",
       "         5.52897912e-01],\n",
       "       [ 5.90353742e-01, -1.33453565e+00, -1.13486833e+00,\n",
       "        -4.46257307e-01],\n",
       "       [ 4.42057396e-01, -1.52873340e-01, -3.93756133e-01,\n",
       "         2.83894584e-01],\n",
       "       [ 1.66579418e+00,  1.28537849e+00,  9.50372823e-01,\n",
       "         2.18613240e+00],\n",
       "       [-1.38283424e-01,  1.24486436e+00,  7.06404211e-01,\n",
       "         6.10541482e-01],\n",
       "       [ 8.79940308e-01, -1.28051680e+00,  8.85928284e-01,\n",
       "        -4.46257307e-01],\n",
       "       [ 1.74402926e+00,  8.80237132e-01,  3.23815396e+00,\n",
       "         1.87870003e+00],\n",
       "       [ 1.55486384e+00, -8.88880147e-01, -4.21375221e-01,\n",
       "         1.49392920e-01],\n",
       "       [ 4.77088029e-01, -4.09462869e-01, -5.82486569e-01,\n",
       "         1.30178396e-01],\n",
       "       [ 1.06443498e+00,  7.45190011e-01, -1.16248742e+00,\n",
       "         1.28304980e+00],\n",
       "       [-1.06755854e-01,  1.56222509e+00,  1.30942097e+00,\n",
       "         9.94831951e-01],\n",
       "       [-1.42507534e+00, -8.28108943e-01, -3.93111688e-02,\n",
       "        -1.31091086e+00],\n",
       "       [-6.61407543e-01, -1.55061104e+00, -3.38517957e-01,\n",
       "        -1.02269301e+00],\n",
       "       [-1.56403019e+00, -1.54385868e+00, -2.28041604e-01,\n",
       "        -1.67598681e+00],\n",
       "       [ 1.26527727e+00,  2.45515665e-01, -1.15328106e+00,\n",
       "         1.11011909e+00],\n",
       "       [ 9.19641692e-01, -1.01717491e+00,  1.19434143e+00,\n",
       "        -1.19610408e-01],\n",
       "       [ 1.10530405e+00,  9.95027184e-01, -3.38517957e-01,\n",
       "         1.49440956e+00],\n",
       "       [ 3.34630122e-01, -5.31005278e-01, -1.29597968e+00,\n",
       "         1.48912557e-02],\n",
       "       [ 7.30476274e-01, -1.79882765e-01, -9.13915627e-01,\n",
       "         3.60752677e-01],\n",
       "       [-8.03865450e-01,  1.58923451e+00,  1.81641536e-01,\n",
       "         1.10963873e-01],\n",
       "       [-8.40063771e-01,  7.92456503e-01,  1.01942054e+00,\n",
       "        -2.73326596e-01],\n",
       "       [-9.15759131e-02, -6.05281194e-01, -2.28041604e-01,\n",
       "        -3.50184689e-01],\n",
       "       [-8.24883830e-01, -1.51684926e+00, -7.25185191e-01,\n",
       "        -8.88191346e-01],\n",
       "       [-2.49213762e-01,  9.20751268e-01,  2.23926360e+00,\n",
       "         3.60752677e-01],\n",
       "       [-1.49046586e+00, -4.90491142e-01, -3.79946589e-01,\n",
       "        -1.42619800e+00],\n",
       "       [-6.70544700e-02,  2.38763309e-01,  7.20213755e-01,\n",
       "         2.83894584e-01],\n",
       "       [-1.49747198e+00, -1.05606848e-01,  9.13547372e-01,\n",
       "        -1.34933991e+00],\n",
       "       [ 8.98623313e-01, -1.40881156e+00, -6.88359740e-01,\n",
       "        -4.65471830e-01],\n",
       "       [-2.79573643e-01,  7.65447079e-01, -8.35661544e-01,\n",
       "         2.26251013e-01],\n",
       "       [ 9.62846140e-01,  6.10142891e-01,  2.00910454e+00,\n",
       "         1.09090457e+00],\n",
       "       [-6.98773552e-01, -7.74090095e-01, -2.14232060e-01,\n",
       "        -6.57617064e-01],\n",
       "       [-1.62591764e+00,  1.05579839e+00,  9.22753735e-01,\n",
       "        -1.42619800e+00],\n",
       "       [-7.80511695e-01, -1.57086811e+00, -9.82963347e-01,\n",
       "        -1.00347849e+00],\n",
       "       [ 8.55418865e-01,  1.73778635e+00, -1.25915423e+00,\n",
       "         2.05163074e+00],\n",
       "       [-1.02105537e+00, -7.60585383e-01,  5.77515133e-01,\n",
       "        -8.30547775e-01],\n",
       "       [-1.70882347e+00,  1.10306488e+00, -1.00597925e+00,\n",
       "        -2.38692417e+00],\n",
       "       [ 1.37971067e+00, -1.37504978e+00,  5.72911952e-01,\n",
       "        -2.54112072e-01],\n",
       "       [-1.61891151e+00,  2.65772733e-01, -1.30978922e+00,\n",
       "        -1.59912871e+00],\n",
       "       [ 8.49580427e-01,  6.91171163e-01,  6.69578760e-01,\n",
       "         1.07169004e+00],\n",
       "       [-1.28612050e+00,  1.03554132e+00,  1.61323094e+00,\n",
       "        -6.19188018e-01],\n",
       "       [-1.15300409e+00,  1.60273923e+00, -1.01518562e+00,\n",
       "        -4.65471830e-01],\n",
       "       [-1.41806922e+00,  1.06255074e+00, -9.78360166e-01,\n",
       "        -8.68976822e-01],\n",
       "       [ 1.47896413e+00,  3.80562786e-01,  1.34164324e+00,\n",
       "         1.30226433e+00],\n",
       "       [-1.21489154e+00,  1.77992105e-01, -4.62803854e-01,\n",
       "        -8.49762299e-01],\n",
       "       [ 4.42057396e-01,  1.39341619e+00, -1.32820195e+00,\n",
       "         1.28304980e+00],\n",
       "       [-8.59914463e-01, -4.22967582e-01, -8.12645637e-01,\n",
       "        -5.99973494e-01],\n",
       "       [ 5.44813920e-01,  8.19465927e-01,  2.07354907e+00,\n",
       "         9.94831951e-01],\n",
       "       [ 8.57754241e-01,  6.70914095e-01,  3.38149702e-01,\n",
       "         1.16776266e+00],\n",
       "       [-4.95595880e-01, -1.18598381e+00,  1.77038355e-01,\n",
       "        -6.96046111e-01],\n",
       "       [-5.93681653e-01, -5.71519414e-01,  3.84181516e-01,\n",
       "        -5.03900877e-01],\n",
       "       [-7.87313476e-02, -1.44257334e+00, -9.92169710e-01,\n",
       "        -7.15260635e-01],\n",
       "       [ 1.08662104e+00, -1.07794612e+00, -1.00597925e+00,\n",
       "        -1.58039455e-01],\n",
       "       [ 1.12281936e+00,  1.73778635e+00,  6.32753309e-01,\n",
       "         2.18613240e+00],\n",
       "       [-1.27327593e+00,  1.15033137e+00, -8.58677450e-01,\n",
       "        -5.99973494e-01],\n",
       "       [-1.19504085e+00,  1.71239749e-01, -4.58200672e-01,\n",
       "        -7.53689682e-01],\n",
       "       [ 1.56070228e+00, -6.32290618e-01,  2.96721070e-01,\n",
       "         3.99181724e-01],\n",
       "       [-3.04095087e-01, -1.00367020e+00,  8.35293289e-01,\n",
       "        -4.65471830e-01],\n",
       "       [ 5.90353742e-01,  2.43084817e-03, -7.52804279e-01,\n",
       "         4.95254341e-01],\n",
       "       [ 2.83251860e-01,  1.10981724e+00,  3.28943340e-01,\n",
       "         9.56402904e-01],\n",
       "       [ 4.75920341e-01, -1.46120984e-01, -9.69153803e-01,\n",
       "         3.03109107e-01],\n",
       "       [-1.66912209e+00, -7.87594807e-01, -1.14407469e+00,\n",
       "        -2.07949180e+00],\n",
       "       [-6.20538471e-01,  1.36640677e+00,  9.18150553e-01,\n",
       "         2.45465537e-01],\n",
       "       [ 3.21989902e-02, -1.48308748e+00, -2.87882962e-01,\n",
       "        -7.53689682e-01],\n",
       "       [-1.58037782e+00,  9.20751268e-01,  6.74181942e-01,\n",
       "        -1.29169634e+00],\n",
       "       [-1.79152496e-01, -3.28434597e-01,  1.86244718e-01,\n",
       "        -2.15683025e-01],\n",
       "       [ 2.97264113e-01, -3.48691665e-01,  6.72064478e-03,\n",
       "         7.25348259e-02],\n",
       "       [-7.16288868e-01,  8.46475352e-01,  8.62912377e-01,\n",
       "        -1.38824932e-01],\n",
       "       [ 4.82926468e-01, -3.48691665e-01, -2.28041604e-01,\n",
       "         1.68607443e-01],\n",
       "       [ 1.92172214e-01,  9.13998912e-01, -1.06582061e+00,\n",
       "         7.64257669e-01],\n",
       "       [-3.48467222e-01, -5.78271770e-01, -1.15788424e+00,\n",
       "        -4.07828260e-01],\n",
       "       [ 1.02123053e+00, -1.34128800e+00,  2.49704176e+00,\n",
       "        -4.07828260e-01],\n",
       "       [-1.50798117e+00,  9.68017760e-01, -4.12168859e-01,\n",
       "        -1.15719467e+00],\n",
       "       [ 6.97781017e-01, -1.21974559e+00, -5.13438849e-01,\n",
       "        -3.50184689e-01],\n",
       "       [ 7.98202165e-01,  2.26879163e-02,  1.24497643e+00,\n",
       "         5.91326959e-01],\n",
       "       [ 1.60273904e+00, -8.55118367e-01, -1.11185242e+00,\n",
       "         1.87821967e-01],\n",
       "       [-1.13315340e+00, -7.87594807e-01, -5.59470662e-01,\n",
       "        -1.08033658e+00],\n",
       "       [ 2.03849092e-01, -1.59625696e-01,  7.75451931e-01,\n",
       "         9.17493494e-02],\n",
       "       [-1.48813048e+00, -2.13644545e-01, -6.23915201e-01,\n",
       "        -1.23405277e+00],\n",
       "       [ 2.49388915e-01, -1.09145083e+00, -8.17248818e-01,\n",
       "        -4.46257307e-01],\n",
       "       [ 8.79940308e-01, -1.34128800e+00, -8.03439274e-01,\n",
       "        -4.84686354e-01],\n",
       "       [ 1.51633014e+00,  1.73103399e+00,  5.17673775e-01,\n",
       "         2.49356478e+00],\n",
       "       [ 1.18353913e+00,  4.68343414e-01, -4.72010216e-01,\n",
       "         1.18697718e+00],\n",
       "       [ 2.70407294e-01, -1.04418434e+00,  2.13863806e-01,\n",
       "        -4.46257307e-01],\n",
       "       [ 1.51399477e+00, -1.41556392e+00, -3.15502050e-01,\n",
       "        -4.27042783e-01],\n",
       "       [ 2.16693657e-01, -8.95632503e-01, -5.96296113e-01,\n",
       "        -2.73326596e-01],\n",
       "       [ 1.11601758e-01, -1.39530685e+00, -1.02439198e+00,\n",
       "        -6.76831588e-01],\n",
       "       [ 8.34400486e-01, -1.20624088e+00, -1.45184340e-01,\n",
       "        -3.50184689e-01],\n",
       "       [-1.06075676e+00, -1.18598381e+00, -3.93111688e-02,\n",
       "        -1.02269301e+00],\n",
       "       [ 1.64127273e+00,  1.33264499e+00,  1.89862818e+00,\n",
       "         2.33984859e+00],\n",
       "       [ 1.24659427e+00, -1.32616272e-01, -2.55016247e-02,\n",
       "         6.87399576e-01],\n",
       "       [ 6.76762637e-01,  1.47444446e+00, -5.04232486e-01,\n",
       "         1.64812575e+00],\n",
       "       [-8.80728498e-02, -1.42906863e+00, -1.82009791e-01,\n",
       "        -7.15260635e-01],\n",
       "       [ 5.14454038e-01,  3.67058074e-01, -5.68677025e-01,\n",
       "         6.29756005e-01],\n",
       "       [ 1.62258973e+00, -6.32290618e-01, -1.23613832e+00,\n",
       "         3.60752677e-01],\n",
       "       [-1.49863967e+00, -7.53833027e-01, -3.29311594e-01,\n",
       "        -1.40698348e+00],\n",
       "       [-1.25576062e+00,  1.20435022e+00, -1.13947151e+00,\n",
       "        -6.19188018e-01],\n",
       "       [-8.35393020e-01, -8.41613655e-01, -1.13026515e+00,\n",
       "        -7.92118728e-01],\n",
       "       [-1.51615499e+00, -1.29402151e+00,  4.81492770e-02,\n",
       "        -1.56069967e+00],\n",
       "       [ 2.30705910e-01,  1.26512143e+00, -1.24074150e+00,\n",
       "         1.07169004e+00],\n",
       "       [ 3.10313024e-02,  8.32970639e-01, -1.13026515e+00,\n",
       "         6.29756005e-01],\n",
       "       [-1.27094056e+00, -1.32103093e+00, -7.71217005e-01,\n",
       "        -1.23405277e+00],\n",
       "       [-6.17035408e-01, -1.24000266e+00, -1.03359834e+00,\n",
       "        -8.30547775e-01],\n",
       "       [ 3.49810063e-01, -9.42898996e-01, -1.11185242e+00,\n",
       "        -2.34897549e-01],\n",
       "       [ 1.59456522e+00,  1.26512143e+00,  1.64085003e+00,\n",
       "         2.20534693e+00],\n",
       "       [ 9.93206022e-01, -9.90165488e-01, -1.00597925e+00,\n",
       "        -1.19610408e-01]])"
      ]
     },
     "execution_count": 17,
     "metadata": {},
     "output_type": "execute_result"
    }
   ],
   "source": [
    "st2 = st1.fit_transform(df)\n",
    "st2"
   ]
  },
  {
   "cell_type": "code",
   "execution_count": 19,
   "metadata": {},
   "outputs": [
    {
     "data": {
      "text/plain": [
       "Index(['TV', 'radio', 'newspaper', 'sales'], dtype='object')"
      ]
     },
     "execution_count": 19,
     "metadata": {},
     "output_type": "execute_result"
    }
   ],
   "source": [
    "df.columns"
   ]
  },
  {
   "cell_type": "code",
   "execution_count": 20,
   "metadata": {
    "collapsed": true
   },
   "outputs": [
    {
     "data": {
      "text/html": [
       "<div>\n",
       "<style scoped>\n",
       "    .dataframe tbody tr th:only-of-type {\n",
       "        vertical-align: middle;\n",
       "    }\n",
       "\n",
       "    .dataframe tbody tr th {\n",
       "        vertical-align: top;\n",
       "    }\n",
       "\n",
       "    .dataframe thead th {\n",
       "        text-align: right;\n",
       "    }\n",
       "</style>\n",
       "<table border=\"1\" class=\"dataframe\">\n",
       "  <thead>\n",
       "    <tr style=\"text-align: right;\">\n",
       "      <th></th>\n",
       "      <th>TV</th>\n",
       "      <th>radio</th>\n",
       "      <th>newspaper</th>\n",
       "      <th>sales</th>\n",
       "    </tr>\n",
       "  </thead>\n",
       "  <tbody>\n",
       "    <tr>\n",
       "      <th>0</th>\n",
       "      <td>0.969852</td>\n",
       "      <td>0.981522</td>\n",
       "      <td>1.778945</td>\n",
       "      <td>1.552053</td>\n",
       "    </tr>\n",
       "    <tr>\n",
       "      <th>1</th>\n",
       "      <td>-1.197376</td>\n",
       "      <td>1.082808</td>\n",
       "      <td>0.669579</td>\n",
       "      <td>-0.696046</td>\n",
       "    </tr>\n",
       "    <tr>\n",
       "      <th>2</th>\n",
       "      <td>-1.516155</td>\n",
       "      <td>1.528463</td>\n",
       "      <td>1.783549</td>\n",
       "      <td>-0.907406</td>\n",
       "    </tr>\n",
       "    <tr>\n",
       "      <th>3</th>\n",
       "      <td>0.052050</td>\n",
       "      <td>1.217855</td>\n",
       "      <td>1.286405</td>\n",
       "      <td>0.860330</td>\n",
       "    </tr>\n",
       "    <tr>\n",
       "      <th>4</th>\n",
       "      <td>0.394182</td>\n",
       "      <td>-0.841614</td>\n",
       "      <td>1.281802</td>\n",
       "      <td>-0.215683</td>\n",
       "    </tr>\n",
       "  </tbody>\n",
       "</table>\n",
       "</div>"
      ],
      "text/plain": [
       "         TV     radio  newspaper     sales\n",
       "0  0.969852  0.981522   1.778945  1.552053\n",
       "1 -1.197376  1.082808   0.669579 -0.696046\n",
       "2 -1.516155  1.528463   1.783549 -0.907406\n",
       "3  0.052050  1.217855   1.286405  0.860330\n",
       "4  0.394182 -0.841614   1.281802 -0.215683"
      ]
     },
     "execution_count": 20,
     "metadata": {},
     "output_type": "execute_result"
    }
   ],
   "source": [
    "st2 = pd.DataFrame(st2, columns = df.columns)\n",
    "st2.head()"
   ]
  },
  {
   "cell_type": "code",
   "execution_count": 21,
   "metadata": {},
   "outputs": [],
   "source": [
    "import seaborn as sns"
   ]
  },
  {
   "cell_type": "code",
   "execution_count": 23,
   "metadata": {
    "collapsed": true
   },
   "outputs": [
    {
     "data": {
      "image/png": "[encoded data removed]",
      "text/plain": [
       "<Figure size 648x360 with 2 Axes>"
      ]
     },
     "metadata": {
      "needs_background": "light"
     },
     "output_type": "display_data"
    }
   ],
   "source": [
    "fig, (ax1,ax2) = plt.subplots(ncols = 2, figsize = (9,5))"
   ]
  },
  {
   "cell_type": "code",
   "execution_count": 25,
   "metadata": {
    "collapsed": true
   },
   "outputs": [
    {
     "data": {
      "text/plain": [
       "<matplotlib.axes._subplots.AxesSubplot at 0x20ee579c390>"
      ]
     },
     "execution_count": 25,
     "metadata": {},
     "output_type": "execute_result"
    },
    {
     "data": {
      "image/png": "[encoded data removed]",
      "text/plain": [
       "<Figure size 648x360 with 2 Axes>"
      ]
     },
     "metadata": {
      "needs_background": "light"
     },
     "output_type": "display_data"
    }
   ],
   "source": [
    "fig, (ax1,ax2) = plt.subplots(ncols = 2, figsize = (9,5))\n",
    "\n",
    "sns.kdeplot(df['TV'], ax = ax1)\n",
    "sns.kdeplot(df['radio'], ax = ax1)\n",
    "sns.kdeplot(df['newspaper'], ax = ax1)\n",
    "sns.kdeplot(df['sales'], ax = ax1)\n",
    "\n",
    "\n",
    "sns.kdeplot(st2['TV'], ax = ax2)\n",
    "sns.kdeplot(st2['radio'], ax = ax2)\n",
    "sns.kdeplot(st2['newspaper'], ax = ax2)\n",
    "sns.kdeplot(st2['sales'], ax = ax2)"
   ]
  },
  {
   "cell_type": "code",
   "execution_count": 26,
   "metadata": {},
   "outputs": [
    {
     "data": {
      "text/plain": [
       "'0.9.0'"
      ]
     },
     "execution_count": 26,
     "metadata": {},
     "output_type": "execute_result"
    }
   ],
   "source": [
    "sns.__version__"
   ]
  },
  {
   "cell_type": "markdown",
   "metadata": {},
   "source": [
    "### MinMax Scaler\n",
    "- It scales all the data points between either 0 to 1 or (-1 to +1)\n",
    "- Formula:\n",
    "    - [Xi - min(X)] / [max(X) - min(X)]"
   ]
  },
  {
   "cell_type": "code",
   "execution_count": 28,
   "metadata": {
    "collapsed": true
   },
   "outputs": [
    {
     "data": {
      "text/html": [
       "<div>\n",
       "<style scoped>\n",
       "    .dataframe tbody tr th:only-of-type {\n",
       "        vertical-align: middle;\n",
       "    }\n",
       "\n",
       "    .dataframe tbody tr th {\n",
       "        vertical-align: top;\n",
       "    }\n",
       "\n",
       "    .dataframe thead th {\n",
       "        text-align: right;\n",
       "    }\n",
       "</style>\n",
       "<table border=\"1\" class=\"dataframe\">\n",
       "  <thead>\n",
       "    <tr style=\"text-align: right;\">\n",
       "      <th></th>\n",
       "      <th>TV</th>\n",
       "      <th>radio</th>\n",
       "      <th>newspaper</th>\n",
       "      <th>sales</th>\n",
       "    </tr>\n",
       "  </thead>\n",
       "  <tbody>\n",
       "    <tr>\n",
       "      <th>0</th>\n",
       "      <td>230.1</td>\n",
       "      <td>37.8</td>\n",
       "      <td>69.2</td>\n",
       "      <td>22.1</td>\n",
       "    </tr>\n",
       "    <tr>\n",
       "      <th>1</th>\n",
       "      <td>44.5</td>\n",
       "      <td>39.3</td>\n",
       "      <td>45.1</td>\n",
       "      <td>10.4</td>\n",
       "    </tr>\n",
       "    <tr>\n",
       "      <th>2</th>\n",
       "      <td>17.2</td>\n",
       "      <td>45.9</td>\n",
       "      <td>69.3</td>\n",
       "      <td>9.3</td>\n",
       "    </tr>\n",
       "    <tr>\n",
       "      <th>3</th>\n",
       "      <td>151.5</td>\n",
       "      <td>41.3</td>\n",
       "      <td>58.5</td>\n",
       "      <td>18.5</td>\n",
       "    </tr>\n",
       "    <tr>\n",
       "      <th>4</th>\n",
       "      <td>180.8</td>\n",
       "      <td>10.8</td>\n",
       "      <td>58.4</td>\n",
       "      <td>12.9</td>\n",
       "    </tr>\n",
       "  </tbody>\n",
       "</table>\n",
       "</div>"
      ],
      "text/plain": [
       "      TV  radio  newspaper  sales\n",
       "0  230.1   37.8       69.2   22.1\n",
       "1   44.5   39.3       45.1   10.4\n",
       "2   17.2   45.9       69.3    9.3\n",
       "3  151.5   41.3       58.5   18.5\n",
       "4  180.8   10.8       58.4   12.9"
      ]
     },
     "execution_count": 28,
     "metadata": {},
     "output_type": "execute_result"
    }
   ],
   "source": [
    "df.head()"
   ]
  },
  {
   "cell_type": "code",
   "execution_count": 27,
   "metadata": {},
   "outputs": [
    {
     "data": {
      "text/html": [
       "<div>\n",
       "<style scoped>\n",
       "    .dataframe tbody tr th:only-of-type {\n",
       "        vertical-align: middle;\n",
       "    }\n",
       "\n",
       "    .dataframe tbody tr th {\n",
       "        vertical-align: top;\n",
       "    }\n",
       "\n",
       "    .dataframe thead th {\n",
       "        text-align: right;\n",
       "    }\n",
       "</style>\n",
       "<table border=\"1\" class=\"dataframe\">\n",
       "  <thead>\n",
       "    <tr style=\"text-align: right;\">\n",
       "      <th></th>\n",
       "      <th>TV</th>\n",
       "      <th>radio</th>\n",
       "      <th>newspaper</th>\n",
       "      <th>sales</th>\n",
       "    </tr>\n",
       "  </thead>\n",
       "  <tbody>\n",
       "    <tr>\n",
       "      <th>count</th>\n",
       "      <td>200.000000</td>\n",
       "      <td>200.000000</td>\n",
       "      <td>200.000000</td>\n",
       "      <td>200.000000</td>\n",
       "    </tr>\n",
       "    <tr>\n",
       "      <th>mean</th>\n",
       "      <td>147.042500</td>\n",
       "      <td>23.264000</td>\n",
       "      <td>30.554000</td>\n",
       "      <td>14.022500</td>\n",
       "    </tr>\n",
       "    <tr>\n",
       "      <th>std</th>\n",
       "      <td>85.854236</td>\n",
       "      <td>14.846809</td>\n",
       "      <td>21.778621</td>\n",
       "      <td>5.217457</td>\n",
       "    </tr>\n",
       "    <tr>\n",
       "      <th>min</th>\n",
       "      <td>0.700000</td>\n",
       "      <td>0.000000</td>\n",
       "      <td>0.300000</td>\n",
       "      <td>1.600000</td>\n",
       "    </tr>\n",
       "    <tr>\n",
       "      <th>25%</th>\n",
       "      <td>74.375000</td>\n",
       "      <td>9.975000</td>\n",
       "      <td>12.750000</td>\n",
       "      <td>10.375000</td>\n",
       "    </tr>\n",
       "    <tr>\n",
       "      <th>50%</th>\n",
       "      <td>149.750000</td>\n",
       "      <td>22.900000</td>\n",
       "      <td>25.750000</td>\n",
       "      <td>12.900000</td>\n",
       "    </tr>\n",
       "    <tr>\n",
       "      <th>75%</th>\n",
       "      <td>218.825000</td>\n",
       "      <td>36.525000</td>\n",
       "      <td>45.100000</td>\n",
       "      <td>17.400000</td>\n",
       "    </tr>\n",
       "    <tr>\n",
       "      <th>max</th>\n",
       "      <td>296.400000</td>\n",
       "      <td>49.600000</td>\n",
       "      <td>114.000000</td>\n",
       "      <td>27.000000</td>\n",
       "    </tr>\n",
       "  </tbody>\n",
       "</table>\n",
       "</div>"
      ],
      "text/plain": [
       "               TV       radio   newspaper       sales\n",
       "count  200.000000  200.000000  200.000000  200.000000\n",
       "mean   147.042500   23.264000   30.554000   14.022500\n",
       "std     85.854236   14.846809   21.778621    5.217457\n",
       "min      0.700000    0.000000    0.300000    1.600000\n",
       "25%     74.375000    9.975000   12.750000   10.375000\n",
       "50%    149.750000   22.900000   25.750000   12.900000\n",
       "75%    218.825000   36.525000   45.100000   17.400000\n",
       "max    296.400000   49.600000  114.000000   27.000000"
      ]
     },
     "execution_count": 27,
     "metadata": {},
     "output_type": "execute_result"
    }
   ],
   "source": [
    "df.describe()"
   ]
  },
  {
   "cell_type": "code",
   "execution_count": 29,
   "metadata": {},
   "outputs": [
    {
     "data": {
      "text/plain": [
       "0.7757862698681096"
      ]
     },
     "execution_count": 29,
     "metadata": {},
     "output_type": "execute_result"
    }
   ],
   "source": [
    "## [Xi - min(X)] / [max(X) - min(X)]\n",
    "(230.1 - 0.7) / (296.4 - 0.7)"
   ]
  },
  {
   "cell_type": "markdown",
   "metadata": {},
   "source": [
    "#### MinMax scaler model"
   ]
  },
  {
   "cell_type": "code",
   "execution_count": 30,
   "metadata": {},
   "outputs": [],
   "source": [
    "## step1\n",
    "from sklearn.preprocessing import MinMaxScaler"
   ]
  },
  {
   "cell_type": "code",
   "execution_count": 31,
   "metadata": {},
   "outputs": [
    {
     "data": {
      "text/plain": [
       "MinMaxScaler(copy=True, feature_range=(0, 1))"
      ]
     },
     "execution_count": 31,
     "metadata": {},
     "output_type": "execute_result"
    }
   ],
   "source": [
    "## step2\n",
    "m1 = MinMaxScaler()\n",
    "m1"
   ]
  },
  {
   "cell_type": "code",
   "execution_count": 32,
   "metadata": {
    "collapsed": true
   },
   "outputs": [
    {
     "data": {
      "text/plain": [
       "array([[0.77578627, 0.76209677, 0.60598065, 0.80708661],\n",
       "       [0.1481231 , 0.79233871, 0.39401935, 0.34645669],\n",
       "       [0.0557998 , 0.92540323, 0.60686016, 0.30314961],\n",
       "       [0.50997633, 0.83266129, 0.51187335, 0.66535433],\n",
       "       [0.60906324, 0.21774194, 0.51099384, 0.44488189],\n",
       "       [0.02705445, 0.9858871 , 0.65699208, 0.22047244],\n",
       "       [0.19208657, 0.66129032, 0.20404573, 0.4015748 ],\n",
       "       [0.4041258 , 0.39516129, 0.09938434, 0.45669291],\n",
       "       [0.02671627, 0.04233871, 0.00615655, 0.12598425],\n",
       "       [0.67331755, 0.05241935, 0.18381706, 0.35433071],\n",
       "       [0.2211701 , 0.11693548, 0.21020229, 0.27559055],\n",
       "       [0.72370646, 0.48387097, 0.03254178, 0.62204724],\n",
       "       [0.07811972, 0.70766129, 0.5769569 , 0.2992126 ],\n",
       "       [0.32735881, 0.15322581, 0.06068602, 0.31889764],\n",
       "       [0.68785932, 0.66330645, 0.40193492, 0.68503937],\n",
       "       [0.65843761, 0.96169355, 0.46262093, 0.81889764],\n",
       "       [0.22691917, 0.73790323, 1.        , 0.42913386],\n",
       "       [0.94927291, 0.7983871 , 0.48812665, 0.8976378 ],\n",
       "       [0.2316537 , 0.41330645, 0.15831135, 0.38188976],\n",
       "       [0.49577274, 0.48185484, 0.16534741, 0.51181102],\n",
       "       [0.73621914, 0.55846774, 0.46701847, 0.64566929],\n",
       "       [0.80047345, 0.10282258, 0.20404573, 0.42913386],\n",
       "       [0.04227257, 0.32056452, 0.43359719, 0.15748031],\n",
       "       [0.76969902, 0.34072581, 0.22779244, 0.54724409],\n",
       "       [0.20831924, 0.25403226, 0.15831135, 0.31889764],\n",
       "       [0.8867095 , 0.07056452, 0.16886544, 0.40944882],\n",
       "       [0.4808928 , 0.59072581, 0.10817942, 0.52755906],\n",
       "       [0.80960433, 0.33669355, 0.19876869, 0.56299213],\n",
       "       [0.83902604, 0.54637097, 0.19876869, 0.68110236],\n",
       "       [0.23638823, 0.32258065, 0.35620053, 0.3503937 ],\n",
       "       [0.98816368, 0.57056452, 0.37730871, 0.77952756],\n",
       "       [0.37943862, 0.35080645, 0.33685136, 0.40551181],\n",
       "       [0.32634427, 0.03024194, 0.26121372, 0.31496063],\n",
       "       [0.89584038, 0.40322581, 0.        , 0.62204724],\n",
       "       [0.32127156, 0.02822581, 0.06244503, 0.31102362],\n",
       "       [0.98072371, 0.08266129, 0.07211961, 0.44094488],\n",
       "       [0.90023673, 0.88306452, 0.04133685, 0.93700787],\n",
       "       [0.25025364, 0.99596774, 0.39929639, 0.51574803],\n",
       "       [0.14338857, 0.53830645, 0.3060686 , 0.33464567],\n",
       "       [0.76868448, 0.76008065, 0.27880387, 0.78346457],\n",
       "       [0.68244843, 0.44959677, 0.27528584, 0.59055118],\n",
       "       [0.59621238, 0.6733871 , 0.33773087, 0.61023622],\n",
       "       [0.99053094, 0.55846774, 0.01319261, 0.7519685 ],\n",
       "       [0.69732837, 0.16935484, 0.22955145, 0.44488189],\n",
       "       [0.08251606, 0.51814516, 0.37818821, 0.27165354],\n",
       "       [0.58978695, 0.45362903, 0.27440633, 0.52362205],\n",
       "       [0.30098072, 0.19959677, 0.31134565, 0.35433071],\n",
       "       [0.80892797, 0.83669355, 0.16007036, 0.8503937 ],\n",
       "       [0.76597903, 0.31854839, 0.43623571, 0.51968504],\n",
       "       [0.22387555, 0.2358871 , 0.32102023, 0.31889764],\n",
       "       [0.67331755, 0.0625    , 0.30167106, 0.38582677],\n",
       "       [0.33716605, 0.19354839, 0.02902375, 0.35826772],\n",
       "       [0.72945553, 0.84072581, 0.34564644, 0.82677165],\n",
       "       [0.61515049, 0.93145161, 0.51363237, 0.77165354],\n",
       "       [0.88603314, 0.58064516, 0.13720317, 0.73228346],\n",
       "       [0.67027393, 0.99596774, 0.52506596, 0.87007874],\n",
       "       [0.02231992, 0.56653226, 0.36147757, 0.15354331],\n",
       "       [0.4582347 , 0.38709677, 0.14335972, 0.45669291],\n",
       "       [0.71051742, 1.        , 0.3289358 , 0.87401575],\n",
       "       [0.71017924, 0.59475806, 0.07915567, 0.66141732],\n",
       "       [0.17855935, 0.04032258, 0.18557608, 0.25590551],\n",
       "       [0.88129861, 0.8608871 , 0.47845207, 0.88976378],\n",
       "       [0.80689888, 0.3125    , 0.23746702, 0.55511811],\n",
       "       [0.3449442 , 0.59677419, 0.07124011, 0.48818898],\n",
       "       [0.44098749, 0.86290323, 0.25153914, 0.64566929],\n",
       "       [0.23097734, 0.1875    , 0.00527704, 0.30314961],\n",
       "       [0.10415962, 0.49596774, 0.01671064, 0.31102362],\n",
       "       [0.4687183 , 0.29233871, 0.08707124, 0.46456693],\n",
       "       [0.80047345, 0.55443548, 0.0941073 , 0.68110236],\n",
       "       [0.73080825, 0.88508065, 0.23658751, 0.81496063],\n",
       "       [0.67095029, 0.61693548, 0.33773087, 0.65748031],\n",
       "       [0.36895502, 0.28830645, 0.27616535, 0.42519685],\n",
       "       [0.08826513, 0.66532258, 0.16710642, 0.28346457],\n",
       "       [0.43523842, 0.11491935, 0.27264732, 0.37007874],\n",
       "       [0.71931011, 0.49596774, 0.11257696, 0.60629921],\n",
       "       [0.05478526, 0.88104839, 0.78364116, 0.27952756],\n",
       "       [0.0906324 , 0.03225806, 0.17941953, 0.20866142],\n",
       "       [0.40514034, 0.57459677, 0.12225154, 0.49606299],\n",
       "       [0.01589449, 0.60282258, 0.08003518, 0.14566929],\n",
       "       [0.38992222, 0.15524194, 0.2005277 , 0.37007874],\n",
       "       [0.25600271, 0.53830645, 0.19349164, 0.4015748 ],\n",
       "       [0.80858979, 0.08266129, 0.32189974, 0.42125984],\n",
       "       [0.25228272, 0.40927419, 0.28320141, 0.38188976],\n",
       "       [0.22894826, 0.89717742, 0.31046614, 0.47244094],\n",
       "       [0.71964829, 0.86693548, 0.294635  , 0.79133858],\n",
       "       [0.65099763, 0.37096774, 0.57519789, 0.53543307],\n",
       "       [0.25566452, 0.55443548, 0.13808267, 0.40944882],\n",
       "       [0.37199865, 0.81854839, 0.5532102 , 0.56692913],\n",
       "       [0.2962462 , 0.5141129 , 0.64291996, 0.44488189],\n",
       "       [0.36895502, 0.96370968, 0.44942832, 0.59448819],\n",
       "       [0.45180927, 0.09879032, 0.07915567, 0.37795276],\n",
       "       [0.09435238, 0.03024194, 0.28759894, 0.22440945],\n",
       "       [0.73385188, 0.67540323, 0.51627089, 0.7007874 ],\n",
       "       [0.84612783, 0.7358871 , 0.63324538, 0.81102362],\n",
       "       [0.36083869, 0.28225806, 0.09322779, 0.38976378],\n",
       "       [0.54988164, 0.63709677, 0.46262093, 0.6023622 ],\n",
       "       [0.66587758, 0.07056452, 0.04925242, 0.3976378 ],\n",
       "       [0.62292864, 0.4233871 , 0.19085312, 0.54724409],\n",
       "       [0.9773419 , 0.85282258, 0.44766931, 0.93700787],\n",
       "       [0.45485289, 0.84072581, 0.40105541, 0.61417323],\n",
       "       [0.74974636, 0.08669355, 0.4353562 , 0.3976378 ],\n",
       "       [1.        , 0.73185484, 0.88478452, 0.87401575],\n",
       "       [0.94521474, 0.20362903, 0.18557608, 0.51968504],\n",
       "       [0.63307406, 0.34677419, 0.15479332, 0.51574803],\n",
       "       [0.8031789 , 0.69153226, 0.04397537, 0.7519685 ],\n",
       "       [0.46398377, 0.93548387, 0.51627089, 0.69291339],\n",
       "       [0.08217788, 0.22177419, 0.2585752 , 0.22047244],\n",
       "       [0.30334799, 0.00604839, 0.20140721, 0.27952756],\n",
       "       [0.04193439, 0.00806452, 0.22251539, 0.14566929],\n",
       "       [0.86134596, 0.54233871, 0.04573439, 0.71653543],\n",
       "       [0.7612445 , 0.16532258, 0.4942832 , 0.46456693],\n",
       "       [0.81501522, 0.76612903, 0.20140721, 0.79527559],\n",
       "       [0.59181603, 0.31048387, 0.01846966, 0.49212598],\n",
       "       [0.70645925, 0.41532258, 0.09146878, 0.56299213],\n",
       "       [0.26208996, 0.94354839, 0.30079156, 0.51181102],\n",
       "       [0.25160636, 0.70564516, 0.46086192, 0.43307087],\n",
       "       [0.46838011, 0.28830645, 0.22251539, 0.41732283],\n",
       "       [0.25600271, 0.01612903, 0.12752858, 0.30708661],\n",
       "       [0.42272574, 0.74395161, 0.6939314 , 0.56299213],\n",
       "       [0.06323977, 0.32258065, 0.19349164, 0.19685039],\n",
       "       [0.47548191, 0.54032258, 0.40369393, 0.54724409],\n",
       "       [0.06121069, 0.4375    , 0.44063325, 0.21259843],\n",
       "       [0.75515725, 0.0483871 , 0.13456464, 0.39370079],\n",
       "       [0.41393304, 0.69758065, 0.1064204 , 0.53543307],\n",
       "       [0.77375719, 0.65120968, 0.64995602, 0.71259843],\n",
       "       [0.29252621, 0.23790323, 0.22515391, 0.35433071],\n",
       "       [0.02401082, 0.78427419, 0.44239226, 0.19685039],\n",
       "       [0.26885357, 0.        , 0.07827617, 0.28346457],\n",
       "       [0.74264457, 0.98790323, 0.02550572, 0.90944882],\n",
       "       [0.19918837, 0.24193548, 0.3764292 , 0.31889764],\n",
       "       [0.        , 0.7983871 , 0.07387863, 0.        ],\n",
       "       [0.89448766, 0.05846774, 0.37554969, 0.43700787],\n",
       "       [0.02603991, 0.5483871 , 0.01583113, 0.16141732],\n",
       "       [0.74095367, 0.67540323, 0.39401935, 0.70866142],\n",
       "       [0.12242137, 0.77822581, 0.57431838, 0.36220472],\n",
       "       [0.16097396, 0.94758065, 0.07211961, 0.39370079],\n",
       "       [0.08420697, 0.78629032, 0.07915567, 0.31102362],\n",
       "       [0.92323301, 0.58266129, 0.52242744, 0.75590551],\n",
       "       [0.14305039, 0.52217742, 0.17766051, 0.31496063],\n",
       "       [0.62292864, 0.88508065, 0.0123131 , 0.7519685 ],\n",
       "       [0.24585729, 0.34274194, 0.11081794, 0.36614173],\n",
       "       [0.65268854, 0.71370968, 0.66226913, 0.69291339],\n",
       "       [0.74332093, 0.66935484, 0.33069481, 0.72834646],\n",
       "       [0.35136963, 0.11491935, 0.29991205, 0.34645669],\n",
       "       [0.32296246, 0.2983871 , 0.33948989, 0.38582677],\n",
       "       [0.4721001 , 0.03830645, 0.07651715, 0.34251969],\n",
       "       [0.80960433, 0.14717742, 0.07387863, 0.45669291],\n",
       "       [0.82008793, 0.98790323, 0.38698329, 0.93700787],\n",
       "       [0.12614136, 0.8125    , 0.10202287, 0.36614173],\n",
       "       [0.14879946, 0.52016129, 0.17854002, 0.33464567],\n",
       "       [0.94690565, 0.28024194, 0.32277924, 0.57086614],\n",
       "       [0.40683125, 0.16935484, 0.42568162, 0.39370079],\n",
       "       [0.66587758, 0.46975806, 0.12225154, 0.59055118],\n",
       "       [0.57693608, 0.80040323, 0.3289358 , 0.68503937],\n",
       "       [0.63273588, 0.42540323, 0.08091469, 0.5511811 ],\n",
       "       [0.01149814, 0.23387097, 0.0474934 , 0.06299213],\n",
       "       [0.31518431, 0.87701613, 0.44151275, 0.53937008],\n",
       "       [0.50422726, 0.02620968, 0.21108179, 0.33464567],\n",
       "       [0.03719986, 0.74395161, 0.39489886, 0.22440945],\n",
       "       [0.44301657, 0.37096774, 0.30167106, 0.44488189],\n",
       "       [0.58099425, 0.36491935, 0.26737027, 0.50393701],\n",
       "       [0.2874535 , 0.72177419, 0.43095866, 0.46062992],\n",
       "       [0.63476496, 0.36491935, 0.22251539, 0.52362205],\n",
       "       [0.550558  , 0.74193548, 0.06244503, 0.64566929],\n",
       "       [0.39398039, 0.29637097, 0.04485488, 0.40551181],\n",
       "       [0.79066622, 0.06854839, 0.74318382, 0.40551181],\n",
       "       [0.05816706, 0.75806452, 0.18733509, 0.2519685 ],\n",
       "       [0.69699019, 0.10483871, 0.16798593, 0.41732283],\n",
       "       [0.72607372, 0.47580645, 0.50395778, 0.61023622],\n",
       "       [0.95908015, 0.21370968, 0.05364996, 0.52755906],\n",
       "       [0.16672303, 0.23387097, 0.15919085, 0.26771654],\n",
       "       [0.5539398 , 0.42137097, 0.41424802, 0.50787402],\n",
       "       [0.06391613, 0.40524194, 0.14687775, 0.23622047],\n",
       "       [0.56712885, 0.14314516, 0.10993843, 0.3976378 ],\n",
       "       [0.74974636, 0.06854839, 0.11257696, 0.38976378],\n",
       "       [0.93405479, 0.9858871 , 0.3649956 , 1.        ],\n",
       "       [0.83767332, 0.60887097, 0.1759015 , 0.73228346],\n",
       "       [0.5732161 , 0.15725806, 0.30694811, 0.3976378 ],\n",
       "       [0.93337842, 0.04637097, 0.20580475, 0.4015748 ],\n",
       "       [0.55765979, 0.2016129 , 0.15215479, 0.43307087],\n",
       "       [0.52722354, 0.05241935, 0.0703606 , 0.3503937 ],\n",
       "       [0.73655732, 0.10887097, 0.23834653, 0.41732283],\n",
       "       [0.18769023, 0.11491935, 0.2585752 , 0.27952756],\n",
       "       [0.97024011, 0.86693548, 0.62884785, 0.96850394],\n",
       "       [0.85593507, 0.42943548, 0.26121372, 0.62992126],\n",
       "       [0.69090294, 0.90927419, 0.16974494, 0.82677165],\n",
       "       [0.46939466, 0.04233871, 0.23131047, 0.34251969],\n",
       "       [0.64389584, 0.57862903, 0.15743184, 0.61811024],\n",
       "       [0.96482922, 0.28024194, 0.02990325, 0.56299213],\n",
       "       [0.06087251, 0.24395161, 0.20316623, 0.2007874 ],\n",
       "       [0.13121407, 0.82862903, 0.04837291, 0.36220472],\n",
       "       [0.25295908, 0.21774194, 0.05013193, 0.32677165],\n",
       "       [0.0557998 , 0.08266129, 0.27528584, 0.16929134],\n",
       "       [0.56171796, 0.84677419, 0.02902375, 0.70866142],\n",
       "       [0.50388908, 0.71774194, 0.05013193, 0.61811024],\n",
       "       [0.12681772, 0.07459677, 0.11873351, 0.23622047],\n",
       "       [0.31619885, 0.09879032, 0.06860158, 0.31889764],\n",
       "       [0.59621238, 0.1875    , 0.05364996, 0.44094488],\n",
       "       [0.95671288, 0.84677419, 0.57959543, 0.94094488],\n",
       "       [0.78254988, 0.1733871 , 0.07387863, 0.46456693]])"
      ]
     },
     "execution_count": 32,
     "metadata": {},
     "output_type": "execute_result"
    }
   ],
   "source": [
    "## step3\n",
    "m2 = m1.fit_transform(df)\n",
    "m2"
   ]
  },
  {
   "cell_type": "code",
   "execution_count": 33,
   "metadata": {
    "collapsed": true
   },
   "outputs": [
    {
     "data": {
      "text/html": [
       "<div>\n",
       "<style scoped>\n",
       "    .dataframe tbody tr th:only-of-type {\n",
       "        vertical-align: middle;\n",
       "    }\n",
       "\n",
       "    .dataframe tbody tr th {\n",
       "        vertical-align: top;\n",
       "    }\n",
       "\n",
       "    .dataframe thead th {\n",
       "        text-align: right;\n",
       "    }\n",
       "</style>\n",
       "<table border=\"1\" class=\"dataframe\">\n",
       "  <thead>\n",
       "    <tr style=\"text-align: right;\">\n",
       "      <th></th>\n",
       "      <th>TV</th>\n",
       "      <th>radio</th>\n",
       "      <th>newspaper</th>\n",
       "      <th>sales</th>\n",
       "    </tr>\n",
       "  </thead>\n",
       "  <tbody>\n",
       "    <tr>\n",
       "      <th>0</th>\n",
       "      <td>0.775786</td>\n",
       "      <td>0.762097</td>\n",
       "      <td>0.605981</td>\n",
       "      <td>0.807087</td>\n",
       "    </tr>\n",
       "    <tr>\n",
       "      <th>1</th>\n",
       "      <td>0.148123</td>\n",
       "      <td>0.792339</td>\n",
       "      <td>0.394019</td>\n",
       "      <td>0.346457</td>\n",
       "    </tr>\n",
       "    <tr>\n",
       "      <th>2</th>\n",
       "      <td>0.055800</td>\n",
       "      <td>0.925403</td>\n",
       "      <td>0.606860</td>\n",
       "      <td>0.303150</td>\n",
       "    </tr>\n",
       "    <tr>\n",
       "      <th>3</th>\n",
       "      <td>0.509976</td>\n",
       "      <td>0.832661</td>\n",
       "      <td>0.511873</td>\n",
       "      <td>0.665354</td>\n",
       "    </tr>\n",
       "    <tr>\n",
       "      <th>4</th>\n",
       "      <td>0.609063</td>\n",
       "      <td>0.217742</td>\n",
       "      <td>0.510994</td>\n",
       "      <td>0.444882</td>\n",
       "    </tr>\n",
       "  </tbody>\n",
       "</table>\n",
       "</div>"
      ],
      "text/plain": [
       "         TV     radio  newspaper     sales\n",
       "0  0.775786  0.762097   0.605981  0.807087\n",
       "1  0.148123  0.792339   0.394019  0.346457\n",
       "2  0.055800  0.925403   0.606860  0.303150\n",
       "3  0.509976  0.832661   0.511873  0.665354\n",
       "4  0.609063  0.217742   0.510994  0.444882"
      ]
     },
     "execution_count": 33,
     "metadata": {},
     "output_type": "execute_result"
    }
   ],
   "source": [
    "## step4\n",
    "m2 = pd.DataFrame(m2, columns = df.columns)\n",
    "m2.head()"
   ]
  },
  {
   "cell_type": "code",
   "execution_count": 36,
   "metadata": {
    "collapsed": true
   },
   "outputs": [
    {
     "data": {
      "text/plain": [
       "<matplotlib.axes._subplots.AxesSubplot at 0x20ee5e14cf8>"
      ]
     },
     "execution_count": 36,
     "metadata": {},
     "output_type": "execute_result"
    },
    {
     "data": {
      "image/png": "[encoded data removed]",
      "text/plain": [
       "<Figure size 648x360 with 2 Axes>"
      ]
     },
     "metadata": {
      "needs_background": "light"
     },
     "output_type": "display_data"
    }
   ],
   "source": [
    "fig, (ax1,ax2) = plt.subplots(ncols = 2, figsize = (9,5))\n",
    "\n",
    "sns.kdeplot(df['TV'], ax = ax1)\n",
    "sns.kdeplot(df['radio'], ax = ax1)\n",
    "sns.kdeplot(df['newspaper'], ax = ax1)\n",
    "sns.kdeplot(df['sales'], ax = ax1)\n",
    "\n",
    "\n",
    "sns.kdeplot(m2['TV'], ax = ax2)\n",
    "sns.kdeplot(m2['radio'], ax = ax2)\n",
    "sns.kdeplot(m2['newspaper'], ax = ax2)\n",
    "sns.kdeplot(m2['sales'], ax = ax2)"
   ]
  },
  {
   "cell_type": "markdown",
   "metadata": {},
   "source": [
    "### Robust scaler\n",
    "- It is mainly used for dataset which contains large amount of outliers\n",
    "- Scaling between IQR(25% to 75%)\n",
    "- Formula:\n",
    "    - (Xi - Q2(X)) / (Q3(X) - Q1(X))\n",
    "        - Q1 - 25%(lower quantile)\n",
    "        - Q2 - 50%(median)\n",
    "        - Q3 - 75%(upper quantile)"
   ]
  },
  {
   "cell_type": "markdown",
   "metadata": {},
   "source": [
    "#### Task1: Apply robust scaler model for advertisement dataset\n",
    "#### Task2: Display visually before and after applying robust scaler"
   ]
  },
  {
   "cell_type": "code",
   "execution_count": null,
   "metadata": {},
   "outputs": [],
   "source": []
  }
 ],
 "metadata": {
  "kernelspec": {
   "display_name": "Python 3",
   "language": "python",
   "name": "python3"
  },
  "language_info": {
   "codemirror_mode": {
    "name": "ipython",
    "version": 3
   },
   "file_extension": ".py",
   "mimetype": "text/x-python",
   "name": "python",
   "nbconvert_exporter": "python",
   "pygments_lexer": "ipython3",
   "version": "3.7.3"
  }
 },
 "nbformat": 4,
 "nbformat_minor": 2
}
